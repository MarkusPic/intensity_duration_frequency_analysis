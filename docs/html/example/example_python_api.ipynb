{
 "cells": [
  {
   "cell_type": "code",
   "execution_count": 1,
   "metadata": {
    "pycharm": {
     "is_executing": false
    },
    "scrolled": true
   },
   "outputs": [],
   "source": [
    "from idf_analysis.idf_class import IntensityDurationFrequencyAnalyse\n",
    "from idf_analysis.definitions import *\n",
    "import pandas as pd\n",
    "from os import path\n",
    "%matplotlib inline"
   ]
  },
  {
   "cell_type": "markdown",
   "metadata": {},
   "source": [
    "# Intensity Duration Frequency Analyse"
   ]
  },
  {
   "cell_type": "markdown",
   "metadata": {},
   "source": [
    "## Parameter\n",
    "\n",
    "**series_kind**:\n",
    "\n",
    "`PARTIAL` = Partielle Serie (partial duration series, PDS) (peak over threshold, POT)\n",
    "\n",
    "`ANNUAL` = Jährliche Serie (annual maximum series, AMS)\n",
    "\n",
    "**worksheet**:\n",
    "\n",
    "`DWA`:\n",
    "- DWA-A 531\n",
    "- KOSTRA - empfohlen\n",
    "- Stützstellen: 60min und 12h\n",
    "\n",
    "`DWA-adv`:\n",
    "- DWA-A 531\n",
    "- Unterscheidung in überwiegend konvektiv und advektiv verursachte Starkregen\n",
    "- Stützstellen: 3h und 24h\n",
    "\n",
    "`ATV`:\n",
    "- ATV-A 121\n",
    "- Stützstellen: 3h und 48h\n",
    "\n",
    "**extended_durations** = Inkludiert die Dauerstufen `[0.75d, 1d, 2d, 3d, 4d, 5d, 6d]` in der Analyse (in d=Tage)\n",
    "\n",
    "Standardmäßig berechnete Dauerstufen `[5m, 10m, 15m, 20m, 30m, 45m, 60m, 1.5h, 3h, 4.5h, 6h, 7.5h, 10h, 12h]`"
   ]
  },
  {
   "cell_type": "code",
   "execution_count": 2,
   "metadata": {
    "pycharm": {
     "is_executing": false
    },
    "scrolled": true
   },
   "outputs": [],
   "source": [
    "idf = IntensityDurationFrequencyAnalyse(series_kind=PARTIAL, worksheet=DWA, extended_durations=True)"
   ]
  },
  {
   "cell_type": "markdown",
   "metadata": {},
   "source": [
    "I used the rain-time-series from ehyd.gv.at with the ID 112086 (Graz-Andritz)"
   ]
  },
  {
   "cell_type": "code",
   "execution_count": 3,
   "metadata": {
    "pycharm": {
     "is_executing": false
    },
    "scrolled": true
   },
   "outputs": [],
   "source": [
    "data = pd.read_parquet('ehyd_112086.parquet')"
   ]
  },
  {
   "cell_type": "code",
   "execution_count": 4,
   "metadata": {
    "scrolled": true
   },
   "outputs": [],
   "source": [
    "output_directory = 'ehyd_112086_idf_data'"
   ]
  },
  {
   "cell_type": "code",
   "execution_count": 5,
   "metadata": {
    "pycharm": {
     "is_executing": false
    },
    "scrolled": true
   },
   "outputs": [
    {
     "data": {
      "text/html": [
       "<div>\n",
       "<style scoped>\n",
       "    .dataframe tbody tr th:only-of-type {\n",
       "        vertical-align: middle;\n",
       "    }\n",
       "\n",
       "    .dataframe tbody tr th {\n",
       "        vertical-align: top;\n",
       "    }\n",
       "\n",
       "    .dataframe thead th {\n",
       "        text-align: right;\n",
       "    }\n",
       "</style>\n",
       "<table border=\"1\" class=\"dataframe\">\n",
       "  <thead>\n",
       "    <tr style=\"text-align: right;\">\n",
       "      <th></th>\n",
       "      <th>precipitation</th>\n",
       "    </tr>\n",
       "    <tr>\n",
       "      <th>datetime</th>\n",
       "      <th></th>\n",
       "    </tr>\n",
       "  </thead>\n",
       "  <tbody>\n",
       "    <tr>\n",
       "      <th>2007-09-17 13:56:00</th>\n",
       "      <td>0.0</td>\n",
       "    </tr>\n",
       "    <tr>\n",
       "      <th>2007-09-17 13:57:00</th>\n",
       "      <td>0.0</td>\n",
       "    </tr>\n",
       "    <tr>\n",
       "      <th>2007-09-17 13:58:00</th>\n",
       "      <td>0.0</td>\n",
       "    </tr>\n",
       "    <tr>\n",
       "      <th>2007-09-17 13:59:00</th>\n",
       "      <td>0.0</td>\n",
       "    </tr>\n",
       "    <tr>\n",
       "      <th>2007-09-17 14:00:00</th>\n",
       "      <td>0.0</td>\n",
       "    </tr>\n",
       "  </tbody>\n",
       "</table>\n",
       "</div>"
      ],
      "text/plain": [
       "                     precipitation\n",
       "datetime                          \n",
       "2007-09-17 13:56:00            0.0\n",
       "2007-09-17 13:57:00            0.0\n",
       "2007-09-17 13:58:00            0.0\n",
       "2007-09-17 13:59:00            0.0\n",
       "2007-09-17 14:00:00            0.0"
      ]
     },
     "execution_count": 5,
     "metadata": {},
     "output_type": "execute_result"
    }
   ],
   "source": [
    "data.head()"
   ]
  },
  {
   "cell_type": "code",
   "execution_count": 6,
   "metadata": {
    "pycharm": {
     "is_executing": false
    },
    "scrolled": true
   },
   "outputs": [
    {
     "data": {
      "text/html": [
       "<div>\n",
       "<style scoped>\n",
       "    .dataframe tbody tr th:only-of-type {\n",
       "        vertical-align: middle;\n",
       "    }\n",
       "\n",
       "    .dataframe tbody tr th {\n",
       "        vertical-align: top;\n",
       "    }\n",
       "\n",
       "    .dataframe thead th {\n",
       "        text-align: right;\n",
       "    }\n",
       "</style>\n",
       "<table border=\"1\" class=\"dataframe\">\n",
       "  <thead>\n",
       "    <tr style=\"text-align: right;\">\n",
       "      <th></th>\n",
       "      <th>precipitation</th>\n",
       "    </tr>\n",
       "    <tr>\n",
       "      <th>datetime</th>\n",
       "      <th></th>\n",
       "    </tr>\n",
       "  </thead>\n",
       "  <tbody>\n",
       "    <tr>\n",
       "      <th>2016-12-31 23:56:00</th>\n",
       "      <td>0.0</td>\n",
       "    </tr>\n",
       "    <tr>\n",
       "      <th>2016-12-31 23:57:00</th>\n",
       "      <td>0.0</td>\n",
       "    </tr>\n",
       "    <tr>\n",
       "      <th>2016-12-31 23:58:00</th>\n",
       "      <td>0.0</td>\n",
       "    </tr>\n",
       "    <tr>\n",
       "      <th>2016-12-31 23:59:00</th>\n",
       "      <td>0.0</td>\n",
       "    </tr>\n",
       "    <tr>\n",
       "      <th>2017-01-01 00:00:00</th>\n",
       "      <td>NaN</td>\n",
       "    </tr>\n",
       "  </tbody>\n",
       "</table>\n",
       "</div>"
      ],
      "text/plain": [
       "                     precipitation\n",
       "datetime                          \n",
       "2016-12-31 23:56:00            0.0\n",
       "2016-12-31 23:57:00            0.0\n",
       "2016-12-31 23:58:00            0.0\n",
       "2016-12-31 23:59:00            0.0\n",
       "2017-01-01 00:00:00            NaN"
      ]
     },
     "execution_count": 6,
     "metadata": {},
     "output_type": "execute_result"
    }
   ],
   "source": [
    "data.tail()"
   ]
  },
  {
   "cell_type": "code",
   "execution_count": 7,
   "metadata": {
    "pycharm": {
     "is_executing": false
    },
    "scrolled": true
   },
   "outputs": [],
   "source": [
    "idf.set_series(data['precipitation'])"
   ]
  },
  {
   "cell_type": "markdown",
   "metadata": {},
   "source": [
    "Bei jeder neuen Berechnung werden Zwischenergebnisse erstellt, welche nur abhängig von der gewählten Serie `series_kind` und der angegebenen/benötigten Dauerstufen sind. Dieser Vorgang dauert einige Sekunden.\n",
    "Auserdem enthalten diese Zwischenergebnisse die Parameter, die zur Berechnung der Regenhöhe und Regenspende benötigt werden.\n",
    "Hier sind bereist die Berechnungsverfahren und Stückpunkte laut dem gewählten `worksheet` berücksichtigt."
   ]
  },
  {
   "cell_type": "markdown",
   "metadata": {},
   "source": [
    "Um Zeit zu sparen, gibt es die Möglichkeit, die Parameter zwischenzuspeichern und bei erneutem Aufrufen des Skripts werden diese Parameter nicht mehr berechnet, sondern aus der Datei gelesen."
   ]
  },
  {
   "cell_type": "code",
   "execution_count": 8,
   "metadata": {
    "pycharm": {
     "is_executing": false
    },
    "scrolled": true
   },
   "outputs": [],
   "source": [
    "idf.auto_save_parameters(path.join(output_directory, 'idf_parameters.yaml'))"
   ]
  },
  {
   "cell_type": "markdown",
   "metadata": {},
   "source": [
    "Abgerufen können diese Zwischenergebnisse mit:"
   ]
  },
  {
   "cell_type": "code",
   "execution_count": 9,
   "metadata": {
    "scrolled": true
   },
   "outputs": [
    {
     "data": {
      "text/plain": [
       "[OrderedDict([('von', 0),\n",
       "              ('bis', 60),\n",
       "              ('u', 'hyperbolic'),\n",
       "              ('w', 'double_logarithmic'),\n",
       "              ('duration', [5, 10, 15, 20, 30, 45, 60]),\n",
       "              ('u_values',\n",
       "               [9.486101172153768,\n",
       "                14.880682259388992,\n",
       "                18.923925904125714,\n",
       "                22.163866280920942,\n",
       "                25.733788535734465,\n",
       "                28.763492111656806,\n",
       "                30.773236426304624]),\n",
       "              ('w_values',\n",
       "               [2.101614151013058,\n",
       "                3.0943743762302796,\n",
       "                5.022504730295425,\n",
       "                6.913318133236633,\n",
       "                8.63300706273769,\n",
       "                9.060714723939233,\n",
       "                10.53265256494607]),\n",
       "              ('a_u', 39.07178657400802),\n",
       "              ('b_u', 15.79493639216588),\n",
       "              ('a_w', -0.23200418301992842),\n",
       "              ('b_w', 0.6527139149932136)]),\n",
       " OrderedDict([('von', 60),\n",
       "              ('bis', 720),\n",
       "              ('u', 'double_logarithmic'),\n",
       "              ('w', 'double_logarithmic'),\n",
       "              ('duration', [60, 90, 180, 270, 360, 450, 600, 720]),\n",
       "              ('u_values',\n",
       "               [30.773236426304624,\n",
       "                33.51214410385941,\n",
       "                38.10523589972139,\n",
       "                41.26666841352598,\n",
       "                43.4140420277688,\n",
       "                45.24083162000485,\n",
       "                47.62380942664198,\n",
       "                48.83726172286971]),\n",
       "              ('w_values',\n",
       "               [10.53265256494607,\n",
       "                11.997606987725561,\n",
       "                13.260437085233818,\n",
       "                13.68867988465992,\n",
       "                14.439105566764008,\n",
       "                14.761796879223478,\n",
       "                15.14365559953517,\n",
       "                15.733542600467251]),\n",
       "              ('a_u', 2.663791285911183),\n",
       "              ('b_u', 0.18756353432662592),\n",
       "              ('a_w', 1.931581875666284),\n",
       "              ('b_w', 0.12428109117831178)]),\n",
       " OrderedDict([('von', 720),\n",
       "              ('bis', inf),\n",
       "              ('u', 'linear'),\n",
       "              ('w', 'linear'),\n",
       "              ('duration', [720, 1080, 1440, 2880, 4320, 5760, 7200, 8640]),\n",
       "              ('u_values',\n",
       "               [48.83726172286971,\n",
       "                54.41074587200064,\n",
       "                58.0214283060335,\n",
       "                66.70202512224915,\n",
       "                71.93257367687501,\n",
       "                78.94721383010396,\n",
       "                83.52833405364608,\n",
       "                85.3819453812888]),\n",
       "              ('w_values',\n",
       "               [15.733542600467251,\n",
       "                15.23804218748647,\n",
       "                13.990433608500725,\n",
       "                15.453540269081063,\n",
       "                19.89064528655737,\n",
       "                24.0937424025363,\n",
       "                25.753436665555473,\n",
       "                28.23046413653405])])]"
      ]
     },
     "execution_count": 9,
     "metadata": {},
     "output_type": "execute_result"
    }
   ],
   "source": [
    "idf.parameters"
   ]
  },
  {
   "cell_type": "markdown",
   "metadata": {},
   "source": [
    "## Berechnungen"
   ]
  },
  {
   "cell_type": "code",
   "execution_count": 10,
   "metadata": {
    "pycharm": {
     "is_executing": false
    },
    "scrolled": true
   },
   "outputs": [
    {
     "data": {
      "text/plain": [
       "19.031596336052708"
      ]
     },
     "execution_count": 10,
     "metadata": {},
     "output_type": "execute_result"
    }
   ],
   "source": [
    "idf.depth_of_rainfall(duration=15, return_period=1)"
   ]
  },
  {
   "cell_type": "code",
   "execution_count": 11,
   "metadata": {
    "pycharm": {
     "is_executing": false
    },
    "scrolled": false
   },
   "outputs": [
    {
     "name": "stdout",
     "output_type": "stream",
     "text": [
      "Resultierende Regenhöhe h_N(T_n=1.0a, D=15.0min) = 19.03 mm\n"
     ]
    }
   ],
   "source": [
    "print('Resultierende Regenhöhe h_N(T_n={t:0.1f}a, D={d:0.1f}min) = {h:0.2f} mm'\n",
    "      ''.format(t=1, d=15, h=idf.depth_of_rainfall(15, 1)))"
   ]
  },
  {
   "cell_type": "code",
   "execution_count": 12,
   "metadata": {
    "pycharm": {
     "is_executing": false
    },
    "scrolled": true
   },
   "outputs": [
    {
     "data": {
      "text/plain": [
       "211.46218151169674"
      ]
     },
     "execution_count": 12,
     "metadata": {},
     "output_type": "execute_result"
    }
   ],
   "source": [
    "idf.rain_flow_rate(duration=15, return_period=1)"
   ]
  },
  {
   "cell_type": "code",
   "execution_count": 13,
   "metadata": {
    "pycharm": {
     "is_executing": false
    },
    "scrolled": true
   },
   "outputs": [
    {
     "name": "stdout",
     "output_type": "stream",
     "text": [
      "Resultierende Regenspende r_N(T_n=1.0a, D=15.0min) = 211.46 L/(s*ha)\n"
     ]
    }
   ],
   "source": [
    "print('Resultierende Regenspende r_N(T_n={t:0.1f}a, D={d:0.1f}min) = {r:0.2f} L/(s*ha)'\n",
    "      ''.format(t=1, d=15, r=idf.rain_flow_rate(15, 1)))"
   ]
  },
  {
   "cell_type": "code",
   "execution_count": 14,
   "metadata": {
    "pycharm": {
     "is_executing": false
    },
    "scrolled": true
   },
   "outputs": [
    {
     "data": {
      "text/plain": [
       "11.410836729727"
      ]
     },
     "execution_count": 14,
     "metadata": {},
     "output_type": "execute_result"
    }
   ],
   "source": [
    "idf.r_720_1()"
   ]
  },
  {
   "cell_type": "code",
   "execution_count": 15,
   "metadata": {
    "pycharm": {
     "is_executing": false
    },
    "scrolled": true
   },
   "outputs": [
    {
     "data": {
      "text/plain": [
       "0.1430180144131331"
      ]
     },
     "execution_count": 15,
     "metadata": {},
     "output_type": "execute_result"
    }
   ],
   "source": [
    "idf.get_return_period(height_of_rainfall=10, duration=15)"
   ]
  },
  {
   "cell_type": "code",
   "execution_count": 16,
   "metadata": {
    "pycharm": {
     "is_executing": false
    },
    "scrolled": true
   },
   "outputs": [
    {
     "data": {
      "text/plain": [
       "5.433080747189968"
      ]
     },
     "execution_count": 16,
     "metadata": {},
     "output_type": "execute_result"
    }
   ],
   "source": [
    "idf.get_duration(height_of_rainfall=10, return_period=1)"
   ]
  },
  {
   "cell_type": "code",
   "execution_count": 17,
   "metadata": {
    "pycharm": {
     "is_executing": false
    },
    "scrolled": false
   },
   "outputs": [
    {
     "data": {
      "text/html": [
       "<div>\n",
       "<style scoped>\n",
       "    .dataframe tbody tr th:only-of-type {\n",
       "        vertical-align: middle;\n",
       "    }\n",
       "\n",
       "    .dataframe tbody tr th {\n",
       "        vertical-align: top;\n",
       "    }\n",
       "\n",
       "    .dataframe thead th {\n",
       "        text-align: right;\n",
       "    }\n",
       "</style>\n",
       "<table border=\"1\" class=\"dataframe\">\n",
       "  <thead>\n",
       "    <tr style=\"text-align: right;\">\n",
       "      <th></th>\n",
       "      <th>1</th>\n",
       "      <th>2</th>\n",
       "      <th>3</th>\n",
       "      <th>5</th>\n",
       "      <th>10</th>\n",
       "      <th>20</th>\n",
       "      <th>25</th>\n",
       "      <th>30</th>\n",
       "      <th>50</th>\n",
       "      <th>75</th>\n",
       "      <th>100</th>\n",
       "    </tr>\n",
       "  </thead>\n",
       "  <tbody>\n",
       "    <tr>\n",
       "      <th>5.0</th>\n",
       "      <td>9.39</td>\n",
       "      <td>10.97</td>\n",
       "      <td>11.89</td>\n",
       "      <td>13.04</td>\n",
       "      <td>14.61</td>\n",
       "      <td>16.19</td>\n",
       "      <td>16.69</td>\n",
       "      <td>17.11</td>\n",
       "      <td>18.26</td>\n",
       "      <td>19.18</td>\n",
       "      <td>19.83</td>\n",
       "    </tr>\n",
       "    <tr>\n",
       "      <th>10.0</th>\n",
       "      <td>15.15</td>\n",
       "      <td>17.62</td>\n",
       "      <td>19.06</td>\n",
       "      <td>20.88</td>\n",
       "      <td>23.35</td>\n",
       "      <td>25.82</td>\n",
       "      <td>26.62</td>\n",
       "      <td>27.27</td>\n",
       "      <td>29.09</td>\n",
       "      <td>30.54</td>\n",
       "      <td>31.56</td>\n",
       "    </tr>\n",
       "    <tr>\n",
       "      <th>15.0</th>\n",
       "      <td>19.03</td>\n",
       "      <td>22.25</td>\n",
       "      <td>24.13</td>\n",
       "      <td>26.51</td>\n",
       "      <td>29.72</td>\n",
       "      <td>32.94</td>\n",
       "      <td>33.98</td>\n",
       "      <td>34.83</td>\n",
       "      <td>37.20</td>\n",
       "      <td>39.08</td>\n",
       "      <td>40.42</td>\n",
       "    </tr>\n",
       "    <tr>\n",
       "      <th>20.0</th>\n",
       "      <td>21.83</td>\n",
       "      <td>25.71</td>\n",
       "      <td>27.99</td>\n",
       "      <td>30.85</td>\n",
       "      <td>34.73</td>\n",
       "      <td>38.62</td>\n",
       "      <td>39.87</td>\n",
       "      <td>40.89</td>\n",
       "      <td>43.75</td>\n",
       "      <td>46.02</td>\n",
       "      <td>47.63</td>\n",
       "    </tr>\n",
       "    <tr>\n",
       "      <th>30.0</th>\n",
       "      <td>25.60</td>\n",
       "      <td>30.66</td>\n",
       "      <td>33.62</td>\n",
       "      <td>37.35</td>\n",
       "      <td>42.41</td>\n",
       "      <td>47.47</td>\n",
       "      <td>49.10</td>\n",
       "      <td>50.43</td>\n",
       "      <td>54.16</td>\n",
       "      <td>57.12</td>\n",
       "      <td>59.22</td>\n",
       "    </tr>\n",
       "    <tr>\n",
       "      <th>45.0</th>\n",
       "      <td>28.92</td>\n",
       "      <td>35.51</td>\n",
       "      <td>39.37</td>\n",
       "      <td>44.23</td>\n",
       "      <td>50.83</td>\n",
       "      <td>57.42</td>\n",
       "      <td>59.54</td>\n",
       "      <td>61.28</td>\n",
       "      <td>66.14</td>\n",
       "      <td>69.99</td>\n",
       "      <td>72.73</td>\n",
       "    </tr>\n",
       "    <tr>\n",
       "      <th>60.0</th>\n",
       "      <td>30.93</td>\n",
       "      <td>38.89</td>\n",
       "      <td>43.54</td>\n",
       "      <td>49.40</td>\n",
       "      <td>57.36</td>\n",
       "      <td>65.31</td>\n",
       "      <td>67.88</td>\n",
       "      <td>69.97</td>\n",
       "      <td>75.83</td>\n",
       "      <td>80.49</td>\n",
       "      <td>83.79</td>\n",
       "    </tr>\n",
       "    <tr>\n",
       "      <th>90.0</th>\n",
       "      <td>33.37</td>\n",
       "      <td>41.74</td>\n",
       "      <td>46.64</td>\n",
       "      <td>52.80</td>\n",
       "      <td>61.17</td>\n",
       "      <td>69.54</td>\n",
       "      <td>72.23</td>\n",
       "      <td>74.43</td>\n",
       "      <td>80.60</td>\n",
       "      <td>85.49</td>\n",
       "      <td>88.96</td>\n",
       "    </tr>\n",
       "    <tr>\n",
       "      <th>180.0</th>\n",
       "      <td>38.01</td>\n",
       "      <td>47.13</td>\n",
       "      <td>52.46</td>\n",
       "      <td>59.18</td>\n",
       "      <td>68.30</td>\n",
       "      <td>77.42</td>\n",
       "      <td>80.36</td>\n",
       "      <td>82.76</td>\n",
       "      <td>89.48</td>\n",
       "      <td>94.81</td>\n",
       "      <td>98.60</td>\n",
       "    </tr>\n",
       "    <tr>\n",
       "      <th>270.0</th>\n",
       "      <td>41.01</td>\n",
       "      <td>50.60</td>\n",
       "      <td>56.21</td>\n",
       "      <td>63.28</td>\n",
       "      <td>72.87</td>\n",
       "      <td>82.46</td>\n",
       "      <td>85.55</td>\n",
       "      <td>88.07</td>\n",
       "      <td>95.14</td>\n",
       "      <td>100.75</td>\n",
       "      <td>104.73</td>\n",
       "    </tr>\n",
       "    <tr>\n",
       "      <th>360.0</th>\n",
       "      <td>43.29</td>\n",
       "      <td>53.23</td>\n",
       "      <td>59.04</td>\n",
       "      <td>66.37</td>\n",
       "      <td>76.31</td>\n",
       "      <td>86.25</td>\n",
       "      <td>89.45</td>\n",
       "      <td>92.06</td>\n",
       "      <td>99.39</td>\n",
       "      <td>105.20</td>\n",
       "      <td>109.33</td>\n",
       "    </tr>\n",
       "    <tr>\n",
       "      <th>450.0</th>\n",
       "      <td>45.14</td>\n",
       "      <td>55.36</td>\n",
       "      <td>61.33</td>\n",
       "      <td>68.87</td>\n",
       "      <td>79.08</td>\n",
       "      <td>89.30</td>\n",
       "      <td>92.59</td>\n",
       "      <td>95.28</td>\n",
       "      <td>102.81</td>\n",
       "      <td>108.79</td>\n",
       "      <td>113.03</td>\n",
       "    </tr>\n",
       "    <tr>\n",
       "      <th>600.0</th>\n",
       "      <td>47.64</td>\n",
       "      <td>58.23</td>\n",
       "      <td>64.43</td>\n",
       "      <td>72.23</td>\n",
       "      <td>82.82</td>\n",
       "      <td>93.41</td>\n",
       "      <td>96.82</td>\n",
       "      <td>99.61</td>\n",
       "      <td>107.42</td>\n",
       "      <td>113.61</td>\n",
       "      <td>118.01</td>\n",
       "    </tr>\n",
       "    <tr>\n",
       "      <th>720.0</th>\n",
       "      <td>49.29</td>\n",
       "      <td>60.13</td>\n",
       "      <td>66.47</td>\n",
       "      <td>74.45</td>\n",
       "      <td>85.29</td>\n",
       "      <td>96.12</td>\n",
       "      <td>99.61</td>\n",
       "      <td>102.46</td>\n",
       "      <td>110.44</td>\n",
       "      <td>116.78</td>\n",
       "      <td>121.28</td>\n",
       "    </tr>\n",
       "    <tr>\n",
       "      <th>1080.0</th>\n",
       "      <td>54.41</td>\n",
       "      <td>64.97</td>\n",
       "      <td>71.15</td>\n",
       "      <td>78.94</td>\n",
       "      <td>89.50</td>\n",
       "      <td>100.06</td>\n",
       "      <td>103.46</td>\n",
       "      <td>106.24</td>\n",
       "      <td>114.02</td>\n",
       "      <td>120.20</td>\n",
       "      <td>124.58</td>\n",
       "    </tr>\n",
       "    <tr>\n",
       "      <th>1440.0</th>\n",
       "      <td>58.02</td>\n",
       "      <td>67.72</td>\n",
       "      <td>73.39</td>\n",
       "      <td>80.54</td>\n",
       "      <td>90.24</td>\n",
       "      <td>99.93</td>\n",
       "      <td>103.05</td>\n",
       "      <td>105.61</td>\n",
       "      <td>112.75</td>\n",
       "      <td>118.42</td>\n",
       "      <td>122.45</td>\n",
       "    </tr>\n",
       "    <tr>\n",
       "      <th>2880.0</th>\n",
       "      <td>66.70</td>\n",
       "      <td>77.41</td>\n",
       "      <td>83.68</td>\n",
       "      <td>91.57</td>\n",
       "      <td>102.29</td>\n",
       "      <td>113.00</td>\n",
       "      <td>116.45</td>\n",
       "      <td>119.26</td>\n",
       "      <td>127.16</td>\n",
       "      <td>133.42</td>\n",
       "      <td>137.87</td>\n",
       "    </tr>\n",
       "    <tr>\n",
       "      <th>4320.0</th>\n",
       "      <td>71.93</td>\n",
       "      <td>85.72</td>\n",
       "      <td>93.78</td>\n",
       "      <td>103.95</td>\n",
       "      <td>117.73</td>\n",
       "      <td>131.52</td>\n",
       "      <td>135.96</td>\n",
       "      <td>139.58</td>\n",
       "      <td>149.75</td>\n",
       "      <td>157.81</td>\n",
       "      <td>163.53</td>\n",
       "    </tr>\n",
       "    <tr>\n",
       "      <th>5760.0</th>\n",
       "      <td>78.95</td>\n",
       "      <td>95.65</td>\n",
       "      <td>105.42</td>\n",
       "      <td>117.72</td>\n",
       "      <td>134.43</td>\n",
       "      <td>151.13</td>\n",
       "      <td>156.50</td>\n",
       "      <td>160.89</td>\n",
       "      <td>173.20</td>\n",
       "      <td>182.97</td>\n",
       "      <td>189.90</td>\n",
       "    </tr>\n",
       "    <tr>\n",
       "      <th>7200.0</th>\n",
       "      <td>83.53</td>\n",
       "      <td>101.38</td>\n",
       "      <td>111.82</td>\n",
       "      <td>124.98</td>\n",
       "      <td>142.83</td>\n",
       "      <td>160.68</td>\n",
       "      <td>166.43</td>\n",
       "      <td>171.12</td>\n",
       "      <td>184.28</td>\n",
       "      <td>194.72</td>\n",
       "      <td>202.13</td>\n",
       "    </tr>\n",
       "    <tr>\n",
       "      <th>8640.0</th>\n",
       "      <td>85.38</td>\n",
       "      <td>104.95</td>\n",
       "      <td>116.40</td>\n",
       "      <td>130.82</td>\n",
       "      <td>150.38</td>\n",
       "      <td>169.95</td>\n",
       "      <td>176.25</td>\n",
       "      <td>181.40</td>\n",
       "      <td>195.82</td>\n",
       "      <td>207.27</td>\n",
       "      <td>215.39</td>\n",
       "    </tr>\n",
       "  </tbody>\n",
       "</table>\n",
       "</div>"
      ],
      "text/plain": [
       "          1       2       3       5       10      20      25      30      50   \\\n",
       "5.0      9.39   10.97   11.89   13.04   14.61   16.19   16.69   17.11   18.26   \n",
       "10.0    15.15   17.62   19.06   20.88   23.35   25.82   26.62   27.27   29.09   \n",
       "15.0    19.03   22.25   24.13   26.51   29.72   32.94   33.98   34.83   37.20   \n",
       "20.0    21.83   25.71   27.99   30.85   34.73   38.62   39.87   40.89   43.75   \n",
       "30.0    25.60   30.66   33.62   37.35   42.41   47.47   49.10   50.43   54.16   \n",
       "45.0    28.92   35.51   39.37   44.23   50.83   57.42   59.54   61.28   66.14   \n",
       "60.0    30.93   38.89   43.54   49.40   57.36   65.31   67.88   69.97   75.83   \n",
       "90.0    33.37   41.74   46.64   52.80   61.17   69.54   72.23   74.43   80.60   \n",
       "180.0   38.01   47.13   52.46   59.18   68.30   77.42   80.36   82.76   89.48   \n",
       "270.0   41.01   50.60   56.21   63.28   72.87   82.46   85.55   88.07   95.14   \n",
       "360.0   43.29   53.23   59.04   66.37   76.31   86.25   89.45   92.06   99.39   \n",
       "450.0   45.14   55.36   61.33   68.87   79.08   89.30   92.59   95.28  102.81   \n",
       "600.0   47.64   58.23   64.43   72.23   82.82   93.41   96.82   99.61  107.42   \n",
       "720.0   49.29   60.13   66.47   74.45   85.29   96.12   99.61  102.46  110.44   \n",
       "1080.0  54.41   64.97   71.15   78.94   89.50  100.06  103.46  106.24  114.02   \n",
       "1440.0  58.02   67.72   73.39   80.54   90.24   99.93  103.05  105.61  112.75   \n",
       "2880.0  66.70   77.41   83.68   91.57  102.29  113.00  116.45  119.26  127.16   \n",
       "4320.0  71.93   85.72   93.78  103.95  117.73  131.52  135.96  139.58  149.75   \n",
       "5760.0  78.95   95.65  105.42  117.72  134.43  151.13  156.50  160.89  173.20   \n",
       "7200.0  83.53  101.38  111.82  124.98  142.83  160.68  166.43  171.12  184.28   \n",
       "8640.0  85.38  104.95  116.40  130.82  150.38  169.95  176.25  181.40  195.82   \n",
       "\n",
       "           75      100  \n",
       "5.0      19.18   19.83  \n",
       "10.0     30.54   31.56  \n",
       "15.0     39.08   40.42  \n",
       "20.0     46.02   47.63  \n",
       "30.0     57.12   59.22  \n",
       "45.0     69.99   72.73  \n",
       "60.0     80.49   83.79  \n",
       "90.0     85.49   88.96  \n",
       "180.0    94.81   98.60  \n",
       "270.0   100.75  104.73  \n",
       "360.0   105.20  109.33  \n",
       "450.0   108.79  113.03  \n",
       "600.0   113.61  118.01  \n",
       "720.0   116.78  121.28  \n",
       "1080.0  120.20  124.58  \n",
       "1440.0  118.42  122.45  \n",
       "2880.0  133.42  137.87  \n",
       "4320.0  157.81  163.53  \n",
       "5760.0  182.97  189.90  \n",
       "7200.0  194.72  202.13  \n",
       "8640.0  207.27  215.39  "
      ]
     },
     "execution_count": 17,
     "metadata": {},
     "output_type": "execute_result"
    }
   ],
   "source": [
    "idf.result_table().round(2)"
   ]
  },
  {
   "cell_type": "code",
   "execution_count": 18,
   "metadata": {
    "pycharm": {
     "is_executing": false
    },
    "scrolled": false
   },
   "outputs": [
    {
     "data": {
      "text/html": [
       "<div>\n",
       "<style scoped>\n",
       "    .dataframe tbody tr th:only-of-type {\n",
       "        vertical-align: middle;\n",
       "    }\n",
       "\n",
       "    .dataframe tbody tr th {\n",
       "        vertical-align: top;\n",
       "    }\n",
       "\n",
       "    .dataframe thead tr th {\n",
       "        text-align: left;\n",
       "    }\n",
       "\n",
       "    .dataframe thead tr:last-of-type th {\n",
       "        text-align: right;\n",
       "    }\n",
       "</style>\n",
       "<table border=\"1\" class=\"dataframe\">\n",
       "  <thead>\n",
       "    <tr>\n",
       "      <th>return period (a)</th>\n",
       "      <th>1</th>\n",
       "      <th>2</th>\n",
       "      <th>3</th>\n",
       "      <th>5</th>\n",
       "      <th>10</th>\n",
       "      <th>20</th>\n",
       "      <th>25</th>\n",
       "      <th>30</th>\n",
       "      <th>50</th>\n",
       "      <th>75</th>\n",
       "      <th>100</th>\n",
       "    </tr>\n",
       "    <tr>\n",
       "      <th>frequency (1/a)</th>\n",
       "      <th>1.000</th>\n",
       "      <th>0.500</th>\n",
       "      <th>0.333</th>\n",
       "      <th>0.200</th>\n",
       "      <th>0.100</th>\n",
       "      <th>0.050</th>\n",
       "      <th>0.040</th>\n",
       "      <th>0.033</th>\n",
       "      <th>0.020</th>\n",
       "      <th>0.013</th>\n",
       "      <th>0.010</th>\n",
       "    </tr>\n",
       "    <tr>\n",
       "      <th>duration (min)</th>\n",
       "      <th></th>\n",
       "      <th></th>\n",
       "      <th></th>\n",
       "      <th></th>\n",
       "      <th></th>\n",
       "      <th></th>\n",
       "      <th></th>\n",
       "      <th></th>\n",
       "      <th></th>\n",
       "      <th></th>\n",
       "      <th></th>\n",
       "    </tr>\n",
       "  </thead>\n",
       "  <tbody>\n",
       "    <tr>\n",
       "      <th>5.0</th>\n",
       "      <td>9.39</td>\n",
       "      <td>10.97</td>\n",
       "      <td>11.89</td>\n",
       "      <td>13.04</td>\n",
       "      <td>14.61</td>\n",
       "      <td>16.19</td>\n",
       "      <td>16.69</td>\n",
       "      <td>17.11</td>\n",
       "      <td>18.26</td>\n",
       "      <td>19.18</td>\n",
       "      <td>19.83</td>\n",
       "    </tr>\n",
       "    <tr>\n",
       "      <th>10.0</th>\n",
       "      <td>15.15</td>\n",
       "      <td>17.62</td>\n",
       "      <td>19.06</td>\n",
       "      <td>20.88</td>\n",
       "      <td>23.35</td>\n",
       "      <td>25.82</td>\n",
       "      <td>26.62</td>\n",
       "      <td>27.27</td>\n",
       "      <td>29.09</td>\n",
       "      <td>30.54</td>\n",
       "      <td>31.56</td>\n",
       "    </tr>\n",
       "    <tr>\n",
       "      <th>15.0</th>\n",
       "      <td>19.03</td>\n",
       "      <td>22.25</td>\n",
       "      <td>24.13</td>\n",
       "      <td>26.51</td>\n",
       "      <td>29.72</td>\n",
       "      <td>32.94</td>\n",
       "      <td>33.98</td>\n",
       "      <td>34.83</td>\n",
       "      <td>37.20</td>\n",
       "      <td>39.08</td>\n",
       "      <td>40.42</td>\n",
       "    </tr>\n",
       "    <tr>\n",
       "      <th>20.0</th>\n",
       "      <td>21.83</td>\n",
       "      <td>25.71</td>\n",
       "      <td>27.99</td>\n",
       "      <td>30.85</td>\n",
       "      <td>34.73</td>\n",
       "      <td>38.62</td>\n",
       "      <td>39.87</td>\n",
       "      <td>40.89</td>\n",
       "      <td>43.75</td>\n",
       "      <td>46.02</td>\n",
       "      <td>47.63</td>\n",
       "    </tr>\n",
       "    <tr>\n",
       "      <th>30.0</th>\n",
       "      <td>25.60</td>\n",
       "      <td>30.66</td>\n",
       "      <td>33.62</td>\n",
       "      <td>37.35</td>\n",
       "      <td>42.41</td>\n",
       "      <td>47.47</td>\n",
       "      <td>49.10</td>\n",
       "      <td>50.43</td>\n",
       "      <td>54.16</td>\n",
       "      <td>57.12</td>\n",
       "      <td>59.22</td>\n",
       "    </tr>\n",
       "    <tr>\n",
       "      <th>45.0</th>\n",
       "      <td>28.92</td>\n",
       "      <td>35.51</td>\n",
       "      <td>39.37</td>\n",
       "      <td>44.23</td>\n",
       "      <td>50.83</td>\n",
       "      <td>57.42</td>\n",
       "      <td>59.54</td>\n",
       "      <td>61.28</td>\n",
       "      <td>66.14</td>\n",
       "      <td>69.99</td>\n",
       "      <td>72.73</td>\n",
       "    </tr>\n",
       "    <tr>\n",
       "      <th>60.0</th>\n",
       "      <td>30.93</td>\n",
       "      <td>38.89</td>\n",
       "      <td>43.54</td>\n",
       "      <td>49.40</td>\n",
       "      <td>57.36</td>\n",
       "      <td>65.31</td>\n",
       "      <td>67.88</td>\n",
       "      <td>69.97</td>\n",
       "      <td>75.83</td>\n",
       "      <td>80.49</td>\n",
       "      <td>83.79</td>\n",
       "    </tr>\n",
       "    <tr>\n",
       "      <th>90.0</th>\n",
       "      <td>33.37</td>\n",
       "      <td>41.74</td>\n",
       "      <td>46.64</td>\n",
       "      <td>52.80</td>\n",
       "      <td>61.17</td>\n",
       "      <td>69.54</td>\n",
       "      <td>72.23</td>\n",
       "      <td>74.43</td>\n",
       "      <td>80.60</td>\n",
       "      <td>85.49</td>\n",
       "      <td>88.96</td>\n",
       "    </tr>\n",
       "    <tr>\n",
       "      <th>180.0</th>\n",
       "      <td>38.01</td>\n",
       "      <td>47.13</td>\n",
       "      <td>52.46</td>\n",
       "      <td>59.18</td>\n",
       "      <td>68.30</td>\n",
       "      <td>77.42</td>\n",
       "      <td>80.36</td>\n",
       "      <td>82.76</td>\n",
       "      <td>89.48</td>\n",
       "      <td>94.81</td>\n",
       "      <td>98.60</td>\n",
       "    </tr>\n",
       "    <tr>\n",
       "      <th>270.0</th>\n",
       "      <td>41.01</td>\n",
       "      <td>50.60</td>\n",
       "      <td>56.21</td>\n",
       "      <td>63.28</td>\n",
       "      <td>72.87</td>\n",
       "      <td>82.46</td>\n",
       "      <td>85.55</td>\n",
       "      <td>88.07</td>\n",
       "      <td>95.14</td>\n",
       "      <td>100.75</td>\n",
       "      <td>104.73</td>\n",
       "    </tr>\n",
       "    <tr>\n",
       "      <th>360.0</th>\n",
       "      <td>43.29</td>\n",
       "      <td>53.23</td>\n",
       "      <td>59.04</td>\n",
       "      <td>66.37</td>\n",
       "      <td>76.31</td>\n",
       "      <td>86.25</td>\n",
       "      <td>89.45</td>\n",
       "      <td>92.06</td>\n",
       "      <td>99.39</td>\n",
       "      <td>105.20</td>\n",
       "      <td>109.33</td>\n",
       "    </tr>\n",
       "    <tr>\n",
       "      <th>450.0</th>\n",
       "      <td>45.14</td>\n",
       "      <td>55.36</td>\n",
       "      <td>61.33</td>\n",
       "      <td>68.87</td>\n",
       "      <td>79.08</td>\n",
       "      <td>89.30</td>\n",
       "      <td>92.59</td>\n",
       "      <td>95.28</td>\n",
       "      <td>102.81</td>\n",
       "      <td>108.79</td>\n",
       "      <td>113.03</td>\n",
       "    </tr>\n",
       "    <tr>\n",
       "      <th>600.0</th>\n",
       "      <td>47.64</td>\n",
       "      <td>58.23</td>\n",
       "      <td>64.43</td>\n",
       "      <td>72.23</td>\n",
       "      <td>82.82</td>\n",
       "      <td>93.41</td>\n",
       "      <td>96.82</td>\n",
       "      <td>99.61</td>\n",
       "      <td>107.42</td>\n",
       "      <td>113.61</td>\n",
       "      <td>118.01</td>\n",
       "    </tr>\n",
       "    <tr>\n",
       "      <th>720.0</th>\n",
       "      <td>49.29</td>\n",
       "      <td>60.13</td>\n",
       "      <td>66.47</td>\n",
       "      <td>74.45</td>\n",
       "      <td>85.29</td>\n",
       "      <td>96.12</td>\n",
       "      <td>99.61</td>\n",
       "      <td>102.46</td>\n",
       "      <td>110.44</td>\n",
       "      <td>116.78</td>\n",
       "      <td>121.28</td>\n",
       "    </tr>\n",
       "    <tr>\n",
       "      <th>1080.0</th>\n",
       "      <td>54.41</td>\n",
       "      <td>64.97</td>\n",
       "      <td>71.15</td>\n",
       "      <td>78.94</td>\n",
       "      <td>89.50</td>\n",
       "      <td>100.06</td>\n",
       "      <td>103.46</td>\n",
       "      <td>106.24</td>\n",
       "      <td>114.02</td>\n",
       "      <td>120.20</td>\n",
       "      <td>124.58</td>\n",
       "    </tr>\n",
       "    <tr>\n",
       "      <th>1440.0</th>\n",
       "      <td>58.02</td>\n",
       "      <td>67.72</td>\n",
       "      <td>73.39</td>\n",
       "      <td>80.54</td>\n",
       "      <td>90.24</td>\n",
       "      <td>99.93</td>\n",
       "      <td>103.05</td>\n",
       "      <td>105.61</td>\n",
       "      <td>112.75</td>\n",
       "      <td>118.42</td>\n",
       "      <td>122.45</td>\n",
       "    </tr>\n",
       "    <tr>\n",
       "      <th>2880.0</th>\n",
       "      <td>66.70</td>\n",
       "      <td>77.41</td>\n",
       "      <td>83.68</td>\n",
       "      <td>91.57</td>\n",
       "      <td>102.29</td>\n",
       "      <td>113.00</td>\n",
       "      <td>116.45</td>\n",
       "      <td>119.26</td>\n",
       "      <td>127.16</td>\n",
       "      <td>133.42</td>\n",
       "      <td>137.87</td>\n",
       "    </tr>\n",
       "    <tr>\n",
       "      <th>4320.0</th>\n",
       "      <td>71.93</td>\n",
       "      <td>85.72</td>\n",
       "      <td>93.78</td>\n",
       "      <td>103.95</td>\n",
       "      <td>117.73</td>\n",
       "      <td>131.52</td>\n",
       "      <td>135.96</td>\n",
       "      <td>139.58</td>\n",
       "      <td>149.75</td>\n",
       "      <td>157.81</td>\n",
       "      <td>163.53</td>\n",
       "    </tr>\n",
       "    <tr>\n",
       "      <th>5760.0</th>\n",
       "      <td>78.95</td>\n",
       "      <td>95.65</td>\n",
       "      <td>105.42</td>\n",
       "      <td>117.72</td>\n",
       "      <td>134.43</td>\n",
       "      <td>151.13</td>\n",
       "      <td>156.50</td>\n",
       "      <td>160.89</td>\n",
       "      <td>173.20</td>\n",
       "      <td>182.97</td>\n",
       "      <td>189.90</td>\n",
       "    </tr>\n",
       "    <tr>\n",
       "      <th>7200.0</th>\n",
       "      <td>83.53</td>\n",
       "      <td>101.38</td>\n",
       "      <td>111.82</td>\n",
       "      <td>124.98</td>\n",
       "      <td>142.83</td>\n",
       "      <td>160.68</td>\n",
       "      <td>166.43</td>\n",
       "      <td>171.12</td>\n",
       "      <td>184.28</td>\n",
       "      <td>194.72</td>\n",
       "      <td>202.13</td>\n",
       "    </tr>\n",
       "    <tr>\n",
       "      <th>8640.0</th>\n",
       "      <td>85.38</td>\n",
       "      <td>104.95</td>\n",
       "      <td>116.40</td>\n",
       "      <td>130.82</td>\n",
       "      <td>150.38</td>\n",
       "      <td>169.95</td>\n",
       "      <td>176.25</td>\n",
       "      <td>181.40</td>\n",
       "      <td>195.82</td>\n",
       "      <td>207.27</td>\n",
       "      <td>215.39</td>\n",
       "    </tr>\n",
       "  </tbody>\n",
       "</table>\n",
       "</div>"
      ],
      "text/plain": [
       "return period (a)    1       2       3       5       10      20      25   \\\n",
       "frequency (1/a)    1.000   0.500   0.333   0.200   0.100   0.050   0.040   \n",
       "duration (min)                                                             \n",
       "5.0                 9.39   10.97   11.89   13.04   14.61   16.19   16.69   \n",
       "10.0               15.15   17.62   19.06   20.88   23.35   25.82   26.62   \n",
       "15.0               19.03   22.25   24.13   26.51   29.72   32.94   33.98   \n",
       "20.0               21.83   25.71   27.99   30.85   34.73   38.62   39.87   \n",
       "30.0               25.60   30.66   33.62   37.35   42.41   47.47   49.10   \n",
       "45.0               28.92   35.51   39.37   44.23   50.83   57.42   59.54   \n",
       "60.0               30.93   38.89   43.54   49.40   57.36   65.31   67.88   \n",
       "90.0               33.37   41.74   46.64   52.80   61.17   69.54   72.23   \n",
       "180.0              38.01   47.13   52.46   59.18   68.30   77.42   80.36   \n",
       "270.0              41.01   50.60   56.21   63.28   72.87   82.46   85.55   \n",
       "360.0              43.29   53.23   59.04   66.37   76.31   86.25   89.45   \n",
       "450.0              45.14   55.36   61.33   68.87   79.08   89.30   92.59   \n",
       "600.0              47.64   58.23   64.43   72.23   82.82   93.41   96.82   \n",
       "720.0              49.29   60.13   66.47   74.45   85.29   96.12   99.61   \n",
       "1080.0             54.41   64.97   71.15   78.94   89.50  100.06  103.46   \n",
       "1440.0             58.02   67.72   73.39   80.54   90.24   99.93  103.05   \n",
       "2880.0             66.70   77.41   83.68   91.57  102.29  113.00  116.45   \n",
       "4320.0             71.93   85.72   93.78  103.95  117.73  131.52  135.96   \n",
       "5760.0             78.95   95.65  105.42  117.72  134.43  151.13  156.50   \n",
       "7200.0             83.53  101.38  111.82  124.98  142.83  160.68  166.43   \n",
       "8640.0             85.38  104.95  116.40  130.82  150.38  169.95  176.25   \n",
       "\n",
       "return period (a)     30      50      75      100  \n",
       "frequency (1/a)     0.033   0.020   0.013   0.010  \n",
       "duration (min)                                     \n",
       "5.0                 17.11   18.26   19.18   19.83  \n",
       "10.0                27.27   29.09   30.54   31.56  \n",
       "15.0                34.83   37.20   39.08   40.42  \n",
       "20.0                40.89   43.75   46.02   47.63  \n",
       "30.0                50.43   54.16   57.12   59.22  \n",
       "45.0                61.28   66.14   69.99   72.73  \n",
       "60.0                69.97   75.83   80.49   83.79  \n",
       "90.0                74.43   80.60   85.49   88.96  \n",
       "180.0               82.76   89.48   94.81   98.60  \n",
       "270.0               88.07   95.14  100.75  104.73  \n",
       "360.0               92.06   99.39  105.20  109.33  \n",
       "450.0               95.28  102.81  108.79  113.03  \n",
       "600.0               99.61  107.42  113.61  118.01  \n",
       "720.0              102.46  110.44  116.78  121.28  \n",
       "1080.0             106.24  114.02  120.20  124.58  \n",
       "1440.0             105.61  112.75  118.42  122.45  \n",
       "2880.0             119.26  127.16  133.42  137.87  \n",
       "4320.0             139.58  149.75  157.81  163.53  \n",
       "5760.0             160.89  173.20  182.97  189.90  \n",
       "7200.0             171.12  184.28  194.72  202.13  \n",
       "8640.0             181.40  195.82  207.27  215.39  "
      ]
     },
     "execution_count": 18,
     "metadata": {},
     "output_type": "execute_result"
    }
   ],
   "source": [
    "idf.result_table(add_names=True).round(2)"
   ]
  },
  {
   "cell_type": "markdown",
   "metadata": {
    "collapsed": false
   },
   "source": [
    "To save the table as a csv:"
   ]
  },
  {
   "cell_type": "code",
   "execution_count": 27,
   "metadata": {},
   "outputs": [],
   "source": [
    "idf.result_table(add_names=True).round(2).to_csv(path.join(output_directory, 'idf_table_UNIX.csv'), sep=',', decimal='.', float_format='%0.2f')"
   ]
  },
  {
   "cell_type": "code",
   "execution_count": 24,
   "metadata": {},
   "outputs": [
    {
     "name": "stdout",
     "output_type": "stream",
     "text": [
      "return period (a)    1       2       3       5       10      20      25      30      50      75      100\n",
      "frequency (1/a)    1.000   0.500   0.333   0.200   0.100   0.050   0.040   0.033   0.020   0.013   0.010\n",
      "duration (min)                                                                                          \n",
      "5.0                 9.39   10.97   11.89   13.04   14.61   16.19   16.69   17.11   18.26   19.18   19.83\n",
      "10.0               15.15   17.62   19.06   20.88   23.35   25.82   26.62   27.27   29.09   30.54   31.56\n",
      "15.0               19.03   22.25   24.13   26.51   29.72   32.94   33.98   34.83   37.20   39.08   40.42\n",
      "20.0               21.83   25.71   27.99   30.85   34.73   38.62   39.87   40.89   43.75   46.02   47.63\n",
      "30.0               25.60   30.66   33.62   37.35   42.41   47.47   49.10   50.43   54.16   57.12   59.22\n",
      "45.0               28.92   35.51   39.37   44.23   50.83   57.42   59.54   61.28   66.14   69.99   72.73\n",
      "60.0               30.93   38.89   43.54   49.40   57.36   65.31   67.88   69.97   75.83   80.49   83.79\n",
      "90.0               33.37   41.74   46.64   52.80   61.17   69.54   72.23   74.43   80.60   85.49   88.96\n",
      "180.0              38.01   47.13   52.46   59.18   68.30   77.42   80.36   82.76   89.48   94.81   98.60\n",
      "270.0              41.01   50.60   56.21   63.28   72.87   82.46   85.55   88.07   95.14  100.75  104.73\n",
      "360.0              43.29   53.23   59.04   66.37   76.31   86.25   89.45   92.06   99.39  105.20  109.33\n",
      "450.0              45.14   55.36   61.33   68.87   79.08   89.30   92.59   95.28  102.81  108.79  113.03\n",
      "600.0              47.64   58.23   64.43   72.23   82.82   93.41   96.82   99.61  107.42  113.61  118.01\n",
      "720.0              49.29   60.13   66.47   74.45   85.29   96.12   99.61  102.46  110.44  116.78  121.28\n",
      "1080.0             54.41   64.97   71.15   78.94   89.50  100.06  103.46  106.24  114.02  120.20  124.58\n",
      "1440.0             58.02   67.72   73.39   80.54   90.24   99.93  103.05  105.61  112.75  118.42  122.45\n",
      "2880.0             66.70   77.41   83.68   91.57  102.29  113.00  116.45  119.26  127.16  133.42  137.87\n",
      "4320.0             71.93   85.72   93.78  103.95  117.73  131.52  135.96  139.58  149.75  157.81  163.53\n",
      "5760.0             78.95   95.65  105.42  117.72  134.43  151.13  156.50  160.89  173.20  182.97  189.90\n",
      "7200.0             83.53  101.38  111.82  124.98  142.83  160.68  166.43  171.12  184.28  194.72  202.13\n",
      "8640.0             85.38  104.95  116.40  130.82  150.38  169.95  176.25  181.40  195.82  207.27  215.39\n"
     ]
    }
   ],
   "source": [
    "print(idf.result_table(add_names=True).round(2).to_string())"
   ]
  },
  {
   "cell_type": "markdown",
   "metadata": {},
   "source": [
    "To create a color plot of the IDF curves:"
   ]
  },
  {
   "cell_type": "code",
   "execution_count": 20,
   "metadata": {
    "pycharm": {
     "is_executing": false
    },
    "scrolled": false
   },
   "outputs": [
    {
     "data": {
      "image/png": "[encoded data removed]",
      "text/plain": [
       "<Figure size 841.89x595.276 with 1 Axes>"
      ]
     },
     "metadata": {
      "needs_background": "light"
     },
     "output_type": "display_data"
    }
   ],
   "source": [
    "fig, ax = idf.result_figure(color=True)"
   ]
  },
  {
   "cell_type": "markdown",
   "metadata": {},
   "source": [
    "To create a black/white plot of the IDF curves:"
   ]
  },
  {
   "cell_type": "code",
   "execution_count": 21,
   "metadata": {
    "pycharm": {
     "is_executing": false
    },
    "scrolled": false
   },
   "outputs": [
    {
     "data": {
      "image/png": "[encoded data removed]",
      "text/plain": [
       "<Figure size 841.89x595.276 with 1 Axes>"
      ]
     },
     "metadata": {
      "needs_background": "light"
     },
     "output_type": "display_data"
    }
   ],
   "source": [
    "fig, ax = idf.result_figure()"
   ]
  }
 ],
 "metadata": {
  "kernelspec": {
   "display_name": "Python 3",
   "language": "python",
   "name": "python3"
  },
  "language_info": {
   "codemirror_mode": {
    "name": "ipython",
    "version": 3
   },
   "file_extension": ".py",
   "mimetype": "text/x-python",
   "name": "python",
   "nbconvert_exporter": "python",
   "pygments_lexer": "ipython3",
   "version": "3.8.1"
  }
 },
 "nbformat": 4,
 "nbformat_minor": 1
}
