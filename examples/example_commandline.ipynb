{
 "cells": [
  {
   "cell_type": "markdown",
   "source": [
    "# Example Commandline Use"
   ],
   "metadata": {
    "collapsed": false,
    "pycharm": {
     "name": "#%% md\n"
    }
   }
  },
  {
   "cell_type": "code",
   "metadata": {
    "ExecuteTime": {
     "end_time": "2024-06-03T07:11:37.975091Z",
     "start_time": "2024-06-03T07:11:36.489250Z"
    }
   },
   "source": [
    "! python -m idf_analysis -h"
   ],
   "outputs": [
    {
     "name": "stdout",
     "output_type": "stream",
     "text": [
      "usage: __main__.py [-h] -i INPUT\r\n",
      "                   [-ws {KOSTRA,convective_vs_advective,ATV-A_121}]\r\n",
      "                   [-kind {partial,annual}] [-t {>= 0.5 a and <= 100 a}]\r\n",
      "                   [-d {>= 5 min and <= 8640 min}] [-r {>= 0 L/(s*ha)}]\r\n",
      "                   [-h_N {>= 0 mm}] [--r_720_1] [--plot] [--export_table]\r\n",
      "\r\n",
      "heavy rain as a function of the duration and the return period acc. to DWA-A\r\n",
      "531 (2012) All files will be saved in the same directory of the input file but\r\n",
      "in a subfolder called like the inputfile + \"_idf_data\". Inside this folder a\r\n",
      "file called \"idf_parameter.yaml\"-file will be saved and contains interim-\r\n",
      "calculation-results and will be automatically reloaded on the next call.\r\n",
      "\r\n",
      "options:\r\n",
      "  -h, --help            show this help message and exit\r\n",
      "  -i INPUT, --input INPUT\r\n",
      "                        input file with the rain time-series (csv or parquet)\r\n",
      "  -ws {KOSTRA,convective_vs_advective,ATV-A_121}, --worksheet {KOSTRA,convective_vs_advective,ATV-A_121}\r\n",
      "                        From which worksheet the recommendations for\r\n",
      "                        calculating the parameters should be taken.\r\n",
      "  -kind {partial,annual}, --series_kind {partial,annual}\r\n",
      "                        The kind of series used for the calculation.\r\n",
      "                        (Calculation with partial series is more precise and\r\n",
      "                        recommended.)\r\n",
      "  -t {>= 0.5 a and <= 100 a}, --return_period {>= 0.5 a and <= 100 a}\r\n",
      "                        return period in years (If two of the three variables\r\n",
      "                        (rainfall (height or flow-rate), duration, return\r\n",
      "                        period) are given, the third variable is calculated.)\r\n",
      "  -d {>= 5 min and <= 8640 min}, --duration {>= 5 min and <= 8640 min}\r\n",
      "                        duration in minutes (If two of the three variables\r\n",
      "                        (rainfall (height or flow-rate), duration, return\r\n",
      "                        period) are given, the third variable is calculated.)\r\n",
      "  -r {>= 0 L/(s*ha)}, --flow_rate_of_rainfall {>= 0 L/(s*ha)}\r\n",
      "                        rainfall in Liter/(s * ha) (If two of the three\r\n",
      "                        variables (rainfall (height or flow-rate), duration,\r\n",
      "                        return period) are given, the third variable is\r\n",
      "                        calculated.)\r\n",
      "  -h_N {>= 0 mm}, --height_of_rainfall {>= 0 mm}\r\n",
      "                        rainfall in mm or Liter/m^2 (If two of the three\r\n",
      "                        variables (rainfall (height or flow-rate), duration,\r\n",
      "                        return period) are given, the third variable is\r\n",
      "                        calculated.)\r\n",
      "  --r_720_1             design rainfall with a duration of 720 minutes (=12 h)\r\n",
      "                        and a return period of 1 year\r\n",
      "  --plot                get a plot of the idf relationship\r\n",
      "  --export_table        get a table of the most frequent used values\r\n"
     ]
    }
   ],
   "execution_count": 1
  },
  {
   "cell_type": "markdown",
   "metadata": {},
   "source": [
    "I used the rain-time-series from ehyd.gv.at with the ID 112086 (Graz-Andritz)"
   ]
  },
  {
   "cell_type": "code",
   "metadata": {
    "ExecuteTime": {
     "end_time": "2024-06-03T07:11:39.047082Z",
     "start_time": "2024-06-03T07:11:37.976926Z"
    }
   },
   "source": [
    "! python -m idf_analysis -i ehyd_112086.parquet"
   ],
   "outputs": [
    {
     "name": "stdout",
     "output_type": "stream",
     "text": [
      "Using the subfolder \"ehyd_112086_idf_data\" for the interim- and final-results.\r\n",
      "Found existing interim-results in \"ehyd_112086_idf_data/idf_parameters.yaml\" and using them for calculations.\r\n",
      "_balance_parameter_change\r\n"
     ]
    }
   ],
   "execution_count": 2
  },
  {
   "cell_type": "code",
   "metadata": {
    "ExecuteTime": {
     "end_time": "2024-06-03T07:11:40.106619Z",
     "start_time": "2024-06-03T07:11:39.048008Z"
    }
   },
   "source": [
    "! python -m idf_analysis -i ehyd_112086.parquet --r_720_1"
   ],
   "outputs": [
    {
     "name": "stdout",
     "output_type": "stream",
     "text": [
      "Using the subfolder \"ehyd_112086_idf_data\" for the interim- and final-results.\r\n",
      "Found existing interim-results in \"ehyd_112086_idf_data/idf_parameters.yaml\" and using them for calculations.\r\n",
      "_balance_parameter_change\r\n",
      "Resultierende Regenhöhe h_N(T_n=1.0a, D=720.0min) = 49.41 mm\r\n",
      "Resultierende Regenspende r_N(T_n=1.0a, D=720.0min) = 11.44 L/(s*ha)\r\n"
     ]
    }
   ],
   "execution_count": 3
  },
  {
   "cell_type": "code",
   "metadata": {
    "ExecuteTime": {
     "end_time": "2024-06-03T07:11:41.176720Z",
     "start_time": "2024-06-03T07:11:40.107902Z"
    }
   },
   "source": [
    "! python -m idf_analysis -i ehyd_112086.parquet -d 720 -t 1"
   ],
   "outputs": [
    {
     "name": "stdout",
     "output_type": "stream",
     "text": [
      "Using the subfolder \"ehyd_112086_idf_data\" for the interim- and final-results.\r\n",
      "Found existing interim-results in \"ehyd_112086_idf_data/idf_parameters.yaml\" and using them for calculations.\r\n",
      "_balance_parameter_change\r\n",
      "Resultierende Regenhöhe h_N(T_n=1.0a, D=720.0min) = 49.41 mm\r\n",
      "Resultierende Regenspende r_N(T_n=1.0a, D=720.0min) = 11.44 L/(s*ha)\r\n"
     ]
    }
   ],
   "execution_count": 4
  },
  {
   "cell_type": "code",
   "metadata": {
    "ExecuteTime": {
     "end_time": "2024-06-03T07:11:42.254830Z",
     "start_time": "2024-06-03T07:11:41.178590Z"
    }
   },
   "source": [
    "! python -m idf_analysis -i ehyd_112086.parquet -d 720 -h_N 60"
   ],
   "outputs": [
    {
     "name": "stdout",
     "output_type": "stream",
     "text": [
      "Using the subfolder \"ehyd_112086_idf_data\" for the interim- and final-results.\r\n",
      "Found existing interim-results in \"ehyd_112086_idf_data/idf_parameters.yaml\" and using them for calculations.\r\n",
      "_balance_parameter_change\r\n",
      "The return period is 2.0 years.\r\n",
      "Resultierende Regenhöhe h_N(T_n=2.0a, D=720.0min) = 60.00 mm\r\n",
      "Resultierende Regenspende r_N(T_n=2.0a, D=720.0min) = 13.89 L/(s*ha)\r\n"
     ]
    }
   ],
   "execution_count": 5
  },
  {
   "cell_type": "code",
   "metadata": {
    "ExecuteTime": {
     "end_time": "2024-06-03T07:12:37.711553Z",
     "start_time": "2024-06-03T07:12:36.272071Z"
    }
   },
   "source": "! python -m idf_analysis -i ehyd_112086.parquet -d 5 -t 15",
   "outputs": [
    {
     "name": "stdout",
     "output_type": "stream",
     "text": [
      "Using the subfolder \"ehyd_112086_idf_data\" for the interim- and final-results.\r\n",
      "Found existing interim-results in \"ehyd_112086_idf_data/idf_parameters.yaml\" and using them for calculations.\r\n",
      "_balance_parameter_change\r\n",
      "Resultierende Regenhöhe h_N(T_n=15.0a, D=5.0min) = 15.50 mm\r\n",
      "Resultierende Regenspende r_N(T_n=15.0a, D=5.0min) = 516.54 L/(s*ha)\r\n"
     ]
    }
   ],
   "execution_count": 9
  },
  {
   "cell_type": "code",
   "metadata": {
    "ExecuteTime": {
     "end_time": "2024-06-03T07:11:45.365133Z",
     "start_time": "2024-06-03T07:11:43.314343Z"
    }
   },
   "source": [
    "! python -m idf_analysis -i ehyd_112086.parquet --plot"
   ],
   "outputs": [
    {
     "name": "stdout",
     "output_type": "stream",
     "text": [
      "Using the subfolder \"ehyd_112086_idf_data\" for the interim- and final-results.\r\n",
      "Found existing interim-results in \"ehyd_112086_idf_data/idf_parameters.yaml\" and using them for calculations.\r\n",
      "_balance_parameter_change\r\n",
      "Created the IDF-curves-plot and saved the file as \"ehyd_112086_idf_data/idf_curves_plot.png\".\r\n"
     ]
    }
   ],
   "execution_count": 7
  },
  {
   "cell_type": "code",
   "metadata": {
    "ExecuteTime": {
     "end_time": "2024-06-03T07:11:46.397910Z",
     "start_time": "2024-06-03T07:11:45.366001Z"
    }
   },
   "source": [
    "! python -m idf_analysis -i ehyd_112086.parquet --export_table"
   ],
   "outputs": [
    {
     "name": "stdout",
     "output_type": "stream",
     "text": [
      "Using the subfolder \"ehyd_112086_idf_data\" for the interim- and final-results.\r\n",
      "Found existing interim-results in \"ehyd_112086_idf_data/idf_parameters.yaml\" and using them for calculations.\r\n",
      "_balance_parameter_change\r\n",
      "return period (a)    1       2       3       5       10      20      25      30      50      75      100\r\n",
      "frequency (1/a)    1.000   0.500   0.333   0.200   0.100   0.050   0.040   0.033   0.020   0.013   0.010\r\n",
      "duration (min)                                                                                          \r\n",
      "5.0                 9.19   10.80   11.75   12.94   14.55   16.17   16.69   17.11   18.30   19.25   19.92\r\n",
      "10.0               14.88   17.42   18.90   20.77   23.31   25.84   26.66   27.33   29.20   30.68   31.73\r\n",
      "15.0               18.76   22.06   23.99   26.43   29.73   33.03   34.09   34.96   37.40   39.33   40.70\r\n",
      "20.0               21.57   25.55   27.88   30.82   34.80   38.78   40.06   41.11   44.05   46.37   48.03\r\n",
      "30.0               25.37   30.56   33.59   37.41   42.59   47.78   49.45   50.81   54.63   57.67   59.82\r\n",
      "45.0               28.75   35.50   39.45   44.42   51.17   57.92   60.10   61.87   66.85   70.80   73.60\r\n",
      "60.0               30.80   38.94   43.70   49.70   57.84   65.98   68.60   70.75   76.75   81.51   84.89\r\n",
      "90.0               33.27   41.80   46.79   53.08   61.61   70.15   72.90   75.14   81.43   86.42   89.96\r\n",
      "120.0              35.14   43.96   49.12   55.63   64.45   73.27   76.11   78.43   84.94   90.10   93.76\r\n",
      "180.0              37.96   47.20   52.61   59.43   68.68   77.93   80.90   83.34   90.15   95.56   99.40\r\n",
      "240.0              40.09   49.65   55.25   62.29   71.86   81.42   84.50   87.01   94.06   99.65  103.62\r\n",
      "360.0              43.31   53.33   59.19   66.58   76.60   86.62   89.85   92.49   99.87  105.74  109.90\r\n",
      "540.0              46.78   57.29   63.43   71.17   81.68   92.18   95.57   98.33  106.07  112.22  116.58\r\n",
      "720.0              49.41   60.27   66.63   74.63   85.50   96.36   99.85  102.71  110.72  117.07  121.58\r\n",
      "1080.0             54.41   64.97   71.15   78.94   89.50  100.06  103.46  106.24  114.02  120.20  124.58\r\n",
      "1440.0             58.02   67.72   73.39   80.54   90.24   99.93  103.05  105.61  112.75  118.42  122.45\r\n",
      "2880.0             66.70   77.41   83.68   91.57  102.28  113.00  116.44  119.26  127.16  133.42  137.87\r\n",
      "4320.0             71.93   85.72   93.78  103.95  117.73  131.52  135.96  139.58  149.75  157.81  163.53\r\n",
      "5760.0             78.95   95.65  105.42  117.72  134.42  151.13  156.50  160.89  173.20  182.97  189.90\r\n",
      "7200.0             83.53  101.38  111.82  124.98  142.83  160.68  166.43  171.12  184.28  194.72  202.13\r\n",
      "8640.0             85.38  104.95  116.40  130.82  150.39  169.95  176.25  181.40  195.82  207.27  215.39\r\n",
      "Created the IDF-curves-plot and saved the file as \"ehyd_112086_idf_data/idf_table.csv\".\r\n"
     ]
    }
   ],
   "execution_count": 8
  }
 ],
 "metadata": {
  "kernelspec": {
   "display_name": "Python 3",
   "language": "python",
   "name": "python3"
  },
  "language_info": {
   "codemirror_mode": {
    "name": "ipython",
    "version": 3
   },
   "file_extension": ".py",
   "mimetype": "text/x-python",
   "name": "python",
   "nbconvert_exporter": "python",
   "pygments_lexer": "ipython3",
   "version": "3.8.1"
  }
 },
 "nbformat": 4,
 "nbformat_minor": 1
}
